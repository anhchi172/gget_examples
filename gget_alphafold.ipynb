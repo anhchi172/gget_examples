{
  "cells": [
    {
      "cell_type": "markdown",
      "metadata": {
        "id": "view-in-github",
        "colab_type": "text"
      },
      "source": [
        "<a href=\"https://colab.research.google.com/github/pachterlab/gget_examples/blob/main/gget_alphafold.ipynb\" target=\"_parent\"><img src=\"https://colab.research.google.com/assets/colab-badge.svg\" alt=\"Open In Colab\"/></a>"
      ]
    },
    {
      "cell_type": "markdown",
      "source": [
        "# [gget alphafold](https://github.com/pachterlab/gget) demonstration\n",
        "Predict the 3D structure of a protein from its amino acid sequence using a simplified version of [DeepMind](https://www.deepmind.com/)’s [AlphaFold2](https://github.com/deepmind/alphafold) originally released and benchmarked for [AlphaFold Colab](https://colab.research.google.com/github/deepmind/alphafold/blob/main/notebooks/AlphaFold.ipynb). To increase speed, set \"Runtime\" -> \"Change runtime type\" -> \"Hardware accelerator\" -> \"GPU\".  \n",
        "Also see: [ColabFold](https://colab.research.google.com/github/sokrypton/ColabFold/blob/main/AlphaFold2.ipynb).\n",
        "\n",
        "Written by Laura Luebbert.\n",
        "___"
      ],
      "metadata": {
        "id": "UEtruYiNvaku"
      }
    },
    {
      "cell_type": "markdown",
      "source": [
        "Install and import gget:"
      ],
      "metadata": {
        "id": "hn85VENdvV-X"
      }
    },
    {
      "cell_type": "code",
      "source": [
        "!pip install -q -U gget \n",
        "import gget"
      ],
      "metadata": {
        "id": "b1n5Mhe-vPar"
      },
      "execution_count": null,
      "outputs": []
    },
    {
      "cell_type": "code",
      "source": [
        "# For pretty plots\n",
        "%config InlineBackend.figure_format='retina'"
      ],
      "metadata": {
        "id": "NjEUIt1GQBNc"
      },
      "execution_count": null,
      "outputs": []
    },
    {
      "cell_type": "markdown",
      "source": [
        "Use Miniconda to install OpenMM:  \n",
        "\n",
        "(To install openmm v7.5.1 on your local machine, run `conda install -qy conda==4.13.0 && conda install -qy -c conda-forge openmm=7.5.1` Recommendation: Follow with `conda update -qy conda` to update conda to the latest version afterwards.)"
      ],
      "metadata": {
        "id": "KYjgXu2jvXvh"
      }
    },
    {
      "cell_type": "code",
      "source": [
        "import sys\n",
        "%shell rm -rf /opt/conda\n",
        "%shell wget -q -P /tmp \\\n",
        "  https://repo.anaconda.com/miniconda/Miniconda3-latest-Linux-x86_64.sh \\\n",
        "    && bash /tmp/Miniconda3-latest-Linux-x86_64.sh -b -p /opt/conda \\\n",
        "    && rm /tmp/Miniconda3-latest-Linux-x86_64.sh\n",
        "\n",
        "PATH=%env PATH\n",
        "%env PATH=/opt/conda/bin:{PATH}\n",
        "%shell conda install -qy conda==4.13.0 \\\n",
        "    && conda install -qy -c conda-forge \\\n",
        "      python=3.8 \\\n",
        "      openmm=7.5.1\n",
        "# Add to path\n",
        "sys.path.append('/opt/conda/lib/python3.8/site-packages')"
      ],
      "metadata": {
        "id": "hCFd6KjsuUmz"
      },
      "execution_count": null,
      "outputs": []
    },
    {
      "cell_type": "markdown",
      "source": [
        "Install third-part dependencies and download AlphaFold model parameters using `gget setup`:"
      ],
      "metadata": {
        "id": "a0FlonuWvl3e"
      }
    },
    {
      "cell_type": "code",
      "execution_count": null,
      "metadata": {
        "id": "kIe23J7Crr12"
      },
      "outputs": [],
      "source": [
        "gget.setup(\"alphafold\")"
      ]
    },
    {
      "cell_type": "markdown",
      "source": [
        "Predict a protein structure:"
      ],
      "metadata": {
        "id": "mAPpSd1Bvoe1"
      }
    },
    {
      "cell_type": "code",
      "source": [
        "# Show gget alphafold manual\n",
        "help(gget.alphafold)"
      ],
      "metadata": {
        "id": "ShEbeEeBezlx"
      },
      "execution_count": null,
      "outputs": []
    },
    {
      "cell_type": "markdown",
      "source": [
        "Predict the structure of CASP14 target [T1024](https://predictioncenter.org/casp14/target.cgi?id=8&view=all):"
      ],
      "metadata": {
        "id": "4O_4uSj2WF0H"
      }
    },
    {
      "cell_type": "code",
      "source": [
        "gget.alphafold(\"MAAHKGAEHHHKAAEHHEQAAKHHHAAAEHHEKGEHEQAAHHADTAYAHHKHAEEHAAQAAKHDAEHHAPKPH\", relax=True)"
      ],
      "metadata": {
        "id": "v-uY4TaTvweM"
      },
      "execution_count": null,
      "outputs": []
    },
    {
      "cell_type": "markdown",
      "source": [
        "Predict the 3D structure of an engineered fluorescent nicotine sensor ([PDB 7S7U](https://www.rcsb.org/structure/7S7U)):"
      ],
      "metadata": {
        "id": "wr9daI2OVxpy"
      }
    },
    {
      "cell_type": "code",
      "execution_count": null,
      "metadata": {
        "id": "czZuaeG-rp9W"
      },
      "outputs": [],
      "source": [
        "gget.alphafold(\n",
        "    \"MHHHHHHGAQPARSANDTVVVGSINFTEGIIVANMVAEMIEAHTDLKVVRKLNLGGENVNFEAIKRGGANNGIDIYVEYTGHGLVDILGFPEPNVYITADKQKNGIKANFKIRHNMEDGSVQLADHYQQNTPIGDGPVLLPDNHYLSTQSVLSKDPNEKRDHMVLLEFVTAAGITLGMDELYKGGTGGSMSKGEELFTGVVPILVELDGGVNGHKFSVRGEGEGDATNGKLTLKFICTTGKLPVPWPTLVTTLTYGVQCFSRYPDHMKQHDFFKSAMPEGYVQERTISFKDDGTYKTRAEVKFEGDTLVNRIELKGIDFKEDGNILGHKLEYNFPPPSSTDPEGAYETVKKEYKRKWNIVWLKPLGFNNTYTLTVKDELAKQYNLKTFSDLAKISDKLILGATMFFLEGPDGYPGLQKLYNFKFKHTKSMDMGIRYTAIDNNEVQVIDAWATDGLLVSHKLKILEDDKAFFPPYYAAPIIRQDVLDKHPELKDVLNKLANQISLEEMQKLNYKVDGEGQDPAKVAKEFLKEKGLILQVD\",\n",
        "    show_sidechains=False\n",
        "    )"
      ]
    },
    {
      "cell_type": "markdown",
      "source": [
        "Predict the structure of the nicotine sensor 7S7U passed as a multimer instead of a single sequence (this takes significanly more time since the MSA needs to be built for each sequence separately):"
      ],
      "metadata": {
        "id": "fyEx0D0KV-Ei"
      }
    },
    {
      "cell_type": "code",
      "source": [
        "gget.alphafold(\n",
        "    [\n",
        "        \"MHHHHHHGAQPARSANDTVVVGSINFTEGIIVANMVAEMIEAHTDLKVVRKLNLGGENVNFEAIKRGGANNGIDIYVEYTGHGLVDILGFPEP\",\n",
        "        \"NVYITADKQKNGIKANFKIRHNMEDGSVQLADHYQQNTPIGDGPVLLPDNHYLSTQSVLSKDPNEKRDHMVLLEFVTAAGITLGMDELYKGGTGGSMSKGEELFTGVVPILVELDGGVNGHKFSVRGEGEGDATNGKLTLKFICTTGKLPVPWPTLVTTLTYGVQCFSRYPDHMKQHDFFKSAMPEGYVQERTISFKDDGTYKTRAEVKFEGDTLVNRIELKGIDFKEDGNILGHKLEYNFPP\",\n",
        "        \"PSSTDPEGAYETVKKEYKRKWNIVWLKPLGFNNTYTLTVKDELAKQYNLKTFSDLAKISDKLILGATMFFLEGPDGYPGLQKLYNFKFKHTKSMDMGIRYTAIDNNEVQVIDAWATDGLLVSHKLKILEDDKAFFPPYYAAPIIRQDVLDKHPELKDVLNKLANQISLEEMQKLNYKVDGEGQDPAKVAKEFLKEKGLILQVD\"\n",
        "     ],\n",
        "    show_sidechains=False\n",
        ")"
      ],
      "metadata": {
        "id": "F4Hh88nziFdz"
      },
      "execution_count": null,
      "outputs": []
    },
    {
      "cell_type": "markdown",
      "source": [
        "Download folders created by gget alphafold:"
      ],
      "metadata": {
        "id": "7cnIaVw8y77u"
      }
    },
    {
      "cell_type": "code",
      "source": [
        "from google.colab import files\n",
        "\n",
        "# Zip all folders into one file\n",
        "!zip -r gget_alphafold_predictions.zip *_gget_alphafold_prediction\n",
        "\n",
        "# Download zipped file\n",
        "files.download('/content/gget_alphafold_predictions.zip')"
      ],
      "metadata": {
        "id": "EWwwMeA506ie"
      },
      "execution_count": null,
      "outputs": []
    },
    {
      "cell_type": "code",
      "source": [],
      "metadata": {
        "id": "Js6w0GQZ1z8f"
      },
      "execution_count": null,
      "outputs": []
    }
  ],
  "metadata": {
    "colab": {
      "name": "gget_alphafold.ipynb",
      "provenance": [],
      "authorship_tag": "ABX9TyPiOzjiBb5oNHGPcX8Mat67",
      "include_colab_link": true
    },
    "kernelspec": {
      "display_name": "Python 3",
      "name": "python3"
    },
    "language_info": {
      "name": "python"
    },
    "accelerator": "GPU",
    "gpuClass": "standard"
  },
  "nbformat": 4,
  "nbformat_minor": 0
}