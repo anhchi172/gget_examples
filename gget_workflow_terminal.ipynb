{
  "nbformat": 4,
  "nbformat_minor": 0,
  "metadata": {
    "colab": {
      "name": "gget_workflow_terminal.ipynb",
      "provenance": [],
      "collapsed_sections": [],
      "include_colab_link": true
    },
    "kernelspec": {
      "name": "python3",
      "display_name": "Python 3"
    },
    "language_info": {
      "name": "python"
    }
  },
  "cells": [
    {
      "cell_type": "markdown",
      "metadata": {
        "id": "view-in-github",
        "colab_type": "text"
      },
      "source": [
        "<a href=\"https://colab.research.google.com/github/pachterlab/gget_examples/blob/main/gget_workflow_terminal.ipynb\" target=\"_parent\"><img src=\"https://colab.research.google.com/assets/colab-badge.svg\" alt=\"Open In Colab\"/></a>"
      ]
    },
    {
      "cell_type": "markdown",
      "source": [
        "# Tutorial: `gget` in the terminal"
      ],
      "metadata": {
        "id": "O3SWnncLGEJV"
      }
    },
    {
      "cell_type": "markdown",
      "source": [
        "[`gget`](https://github.com/pachterlab/gget) currently consists of the following nine modules:\n",
        "- `gget ref`\n",
        "Fetch File Transfer Protocols (FTPs) and metadata for reference genomes and annotations from [Ensembl](https://www.ensembl.org/) by species.\n",
        "- `gget search`\n",
        "Fetch genes and transcripts from [Ensembl](https://www.ensembl.org/) using free-form search terms.\n",
        "- `gget info`\n",
        "Fetch extensive gene and transcript metadata from [Ensembl](https://www.ensembl.org/), [UniProt](https://www.uniprot.org/), and [NCBI](https://www.ncbi.nlm.nih.gov/) using Ensembl IDs.  \n",
        "- `gget seq`\n",
        "Fetch nucleotide or amino acid sequences of genes or transcripts from [Ensembl](https://www.ensembl.org/) or [UniProt](https://www.uniprot.org/), respectively.  \n",
        "- `gget blast`\n",
        "BLAST a nucleotide or amino acid sequence to any [BLAST](https://blast.ncbi.nlm.nih.gov/Blast.cgi) database.\n",
        "- `gget blat` \n",
        "Find the genomic location of a nucleotide or amino acid sequence using [BLAT](https://genome.ucsc.edu/cgi-bin/hgBlat).\n",
        "- `gget muscle` \n",
        "Align multiple nucleotide or amino acid sequences to each other using [Muscle5](https://www.drive5.com/muscle/).\n",
        "- `gget enrichr`\n",
        "Perform an enrichment analysis on a list of genes using [Enrichr](https://maayanlab.cloud/Enrichr/).\n",
        "- `gget archs4` \n",
        "Find the most correlated genes to a gene of interest or find the gene's tissue expression atlas using [ARCHS4](https://maayanlab.cloud/archs4/)."
      ],
      "metadata": {
        "id": "qBaV5R5eqE1T"
      }
    },
    {
      "cell_type": "markdown",
      "source": [
        "___"
      ],
      "metadata": {
        "id": "4YTWSN4yj1Bf"
      }
    },
    {
      "cell_type": "markdown",
      "source": [
        "Install gget:"
      ],
      "metadata": {
        "id": "6BNMctR7el5J"
      }
    },
    {
      "cell_type": "code",
      "source": [
        "!pip install gget -q"
      ],
      "metadata": {
        "id": "YYCF5vz_E4UH"
      },
      "execution_count": null,
      "outputs": []
    },
    {
      "cell_type": "markdown",
      "source": [
        "___"
      ],
      "metadata": {
        "id": "KPJWPlXfhZjo"
      }
    },
    {
      "cell_type": "markdown",
      "source": [
        "\n",
        "<h1><center>Terminal version</center></h1>\n",
        "<center>Jupyter lab version below.<center>\n"
      ],
      "metadata": {
        "id": "KXXUUooZdfsK"
      }
    },
    {
      "cell_type": "code",
      "source": [
        "!gget"
      ],
      "metadata": {
        "id": "M1Azk6tcIW9H"
      },
      "execution_count": null,
      "outputs": []
    },
    {
      "cell_type": "code",
      "source": [
        "# # Show complete manual\n",
        "# !gget -h"
      ],
      "metadata": {
        "id": "KAUUP7nFFWe1"
      },
      "execution_count": null,
      "outputs": []
    },
    {
      "cell_type": "markdown",
      "source": [
        "___\n",
        "# Find reference genome metadata and download links"
      ],
      "metadata": {
        "id": "YNJbN2aEnmvh"
      }
    },
    {
      "cell_type": "code",
      "source": [
        "# Show manual\n",
        "!gget ref"
      ],
      "metadata": {
        "id": "qye3LZ7YDA1U"
      },
      "execution_count": null,
      "outputs": []
    },
    {
      "cell_type": "code",
      "source": [
        "# Fetch the reference genome metadata of the latest Homo sapiens genome\n",
        "!gget ref human"
      ],
      "metadata": {
        "id": "a8T8poMPlnVp"
      },
      "execution_count": null,
      "outputs": []
    },
    {
      "cell_type": "code",
      "source": [
        "# Fetch only the GTF (annotation reference) FTP of the latest Homo sapiens genome\n",
        "!gget ref -w gtf -ftp human"
      ],
      "metadata": {
        "id": "9lnLsNm9nmFk"
      },
      "execution_count": null,
      "outputs": []
    },
    {
      "cell_type": "markdown",
      "source": [
        "Ensembl just released Ensembl 106. Note that gget ref and search will automatically fetch from that release now unless a previous release is specified (all other functions are release independent). Show newly available genomes in the latest Ensembl release (compared to previous release 105):"
      ],
      "metadata": {
        "id": "Q1sW4LTUyNj6"
      }
    },
    {
      "cell_type": "code",
      "source": [
        "!comm -13 <(gget ref -l -r 105 | sort) <(gget ref -l | sort)"
      ],
      "metadata": {
        "id": "nXcAafHww3jy"
      },
      "execution_count": null,
      "outputs": []
    },
    {
      "cell_type": "markdown",
      "source": [
        "___"
      ],
      "metadata": {
        "id": "ezkGf3VtFW4a"
      }
    },
    {
      "cell_type": "markdown",
      "source": [
        "# Find gene IDs based on free form search words:\n",
        "Searching for 'fun' genes in the zebra finch genome."
      ],
      "metadata": {
        "id": "x-JWpMCQjqLQ"
      }
    },
    {
      "cell_type": "code",
      "source": [
        "# Show manual\n",
        "!gget search"
      ],
      "metadata": {
        "id": "mpCg5-0xDHfA"
      },
      "execution_count": null,
      "outputs": []
    },
    {
      "cell_type": "code",
      "source": [
        "!gget search --species taeniopygia_guttata fun"
      ],
      "metadata": {
        "id": "jGgksQqK2zog"
      },
      "execution_count": null,
      "outputs": []
    },
    {
      "cell_type": "markdown",
      "source": [
        "# Use [Enrichr](https://maayanlab.cloud/Enrichr/) to perform a pathway enrichment analysis on a list of genes"
      ],
      "metadata": {
        "id": "7Kp6bzv2-8Sr"
      }
    },
    {
      "cell_type": "code",
      "source": [
        "# Show manual\n",
        "!gget enrichr"
      ],
      "metadata": {
        "id": "CVfQeXMoDJgP"
      },
      "execution_count": null,
      "outputs": []
    },
    {
      "cell_type": "code",
      "source": [
        "!gget enrichr -db pathway AIMP1 MFHAS1 BFAR FUNDC1 AIMP2 ASF1A"
      ],
      "metadata": {
        "id": "bjzhkl1L-qN8"
      },
      "execution_count": null,
      "outputs": []
    },
    {
      "cell_type": "markdown",
      "source": [
        "# Find the 100 most correlated genes to a gene of interest or show its tissue expression using the [ARCHS4](https://maayanlab.cloud/archs4/) database"
      ],
      "metadata": {
        "id": "4DF_-mBim0p0"
      }
    },
    {
      "cell_type": "code",
      "source": [
        "# Show manual\n",
        "!gget archs4"
      ],
      "metadata": {
        "id": "tRpFQeIvDuGY"
      },
      "execution_count": null,
      "outputs": []
    },
    {
      "cell_type": "code",
      "source": [
        "!gget archs4 AIMP1"
      ],
      "metadata": {
        "id": "PrYmu4zdm0Ku"
      },
      "execution_count": null,
      "outputs": []
    },
    {
      "cell_type": "code",
      "source": [
        "!gget archs4 --which tissue AIMP1"
      ],
      "metadata": {
        "id": "wgwr_OYlnUfN"
      },
      "execution_count": null,
      "outputs": []
    },
    {
      "cell_type": "markdown",
      "source": [
        "# Fetch additional information about genes/transcripts:"
      ],
      "metadata": {
        "id": "oYbIQ8G3jtby"
      }
    },
    {
      "cell_type": "code",
      "source": [
        "# Show manual\n",
        "!gget info"
      ],
      "metadata": {
        "id": "Dvdfh9u-DxRp"
      },
      "execution_count": null,
      "outputs": []
    },
    {
      "cell_type": "code",
      "source": [
        "# Show short info on a few of the genes (includes the canonical transcript for each)\n",
        "!gget info ENSTGUG00000006139 ENSTGUG00000026050 ENSTGUG00000004956"
      ],
      "metadata": {
        "id": "5gNxjBqjGBYv"
      },
      "execution_count": null,
      "outputs": []
    },
    {
      "cell_type": "markdown",
      "source": [
        "# Fetch the **nucleotide** sequence of a gene, or the **nucleotide** sequences corresponding to all its known protein isoforms."
      ],
      "metadata": {
        "id": "2LmfnoEWkBXY"
      }
    },
    {
      "cell_type": "code",
      "source": [
        "# Show manual\n",
        "!gget seq"
      ],
      "metadata": {
        "id": "6lL9cSQkD4rv"
      },
      "execution_count": null,
      "outputs": []
    },
    {
      "cell_type": "code",
      "source": [
        "# Flag [-o] defines the file the results will be saved in\n",
        "!gget seq -o gene_fasta.fa ENSTGUG00000006139"
      ],
      "metadata": {
        "id": "7DHXPniw8XD9"
      },
      "execution_count": null,
      "outputs": []
    },
    {
      "cell_type": "markdown",
      "source": [
        "Get the nucleotide sequences of all known isoforms of ENSTGUG00000006139:"
      ],
      "metadata": {
        "id": "RMkv79FQxFuq"
      }
    },
    {
      "cell_type": "code",
      "source": [
        "!gget seq -iso -o gene_iso_fasta.fa ENSTGUG00000006139"
      ],
      "metadata": {
        "id": "9IQtYuB4GbKY"
      },
      "execution_count": null,
      "outputs": []
    },
    {
      "cell_type": "markdown",
      "source": [
        "# Fetch the **amino acid** sequence of the canonical transcript of a gene, or the **amino acid** sequences corresponding to all its known protein isoforms."
      ],
      "metadata": {
        "id": "4OpdPop6GruS"
      }
    },
    {
      "cell_type": "code",
      "source": [
        "# Get amino acid (AA) sequence of canonical transcript\n",
        "!gget seq --transcribe -o transcript_fasta.fa ENSTGUG00000006139"
      ],
      "metadata": {
        "id": "NtN1L-QAGrJ3"
      },
      "execution_count": null,
      "outputs": []
    },
    {
      "cell_type": "code",
      "source": [
        "# Get AA sequences of all isoforms\n",
        "!gget seq --transcribe -iso -o transcript_iso_fasta.fa ENSTGUG00000006139"
      ],
      "metadata": {
        "id": "1fxodra1G3u8"
      },
      "execution_count": null,
      "outputs": []
    },
    {
      "cell_type": "markdown",
      "source": [
        "Note: If you use the isoform option on a transcript, it will simply fetch the sequence of the specified transcript and notify the user that the isoform option only applies to genes:"
      ],
      "metadata": {
        "id": "guK4ZIY8HLcU"
      }
    },
    {
      "cell_type": "code",
      "source": [
        "!gget seq --transcribe -iso ENSTGUT00000027003.1"
      ],
      "metadata": {
        "id": "-kTfXPaVHLjf"
      },
      "execution_count": null,
      "outputs": []
    },
    {
      "cell_type": "markdown",
      "source": [
        "# BLAST the gene **nucleotide** sequence:"
      ],
      "metadata": {
        "id": "seepZWLxknDz"
      }
    },
    {
      "cell_type": "code",
      "source": [
        "# Show manual\n",
        "!gget blast"
      ],
      "metadata": {
        "id": "4iMVwUsvEFic"
      },
      "execution_count": null,
      "outputs": []
    },
    {
      "cell_type": "markdown",
      "source": [
        "Note: `blast` also accepts a sequence passed as string instead of a .fa file."
      ],
      "metadata": {
        "id": "eVJwo-IC1bYE"
      }
    },
    {
      "cell_type": "code",
      "source": [
        "!gget blast gene_fasta.fa"
      ],
      "metadata": {
        "id": "Isw0g_6sQigW"
      },
      "execution_count": null,
      "outputs": []
    },
    {
      "cell_type": "markdown",
      "source": [
        "# BLAST the **amino acid** sequence of the canonical transcript:"
      ],
      "metadata": {
        "id": "gx0M8gPrJkXd"
      }
    },
    {
      "cell_type": "code",
      "source": [
        "!gget blast transcript_fasta.fa"
      ],
      "metadata": {
        "id": "NL4AUOsAJk1i"
      },
      "execution_count": null,
      "outputs": []
    },
    {
      "cell_type": "markdown",
      "source": [
        "# Use MUSCLE algorithm to align the **nucleotide** sequences of all transcripts:"
      ],
      "metadata": {
        "id": "OMjzi22Zl7V2"
      }
    },
    {
      "cell_type": "code",
      "source": [
        "# Show manual\n",
        "!gget muscle"
      ],
      "metadata": {
        "id": "r3D_Qgc9EPpW"
      },
      "execution_count": null,
      "outputs": []
    },
    {
      "cell_type": "code",
      "source": [
        "!gget muscle gene_iso_fasta.fa"
      ],
      "metadata": {
        "id": "p7z5v6dFJ2Ed"
      },
      "execution_count": null,
      "outputs": []
    },
    {
      "cell_type": "markdown",
      "source": [
        "# Use MUSCLE algorithm to align the **amino acid** sequences of all transcripts:"
      ],
      "metadata": {
        "id": "eQP4bt5nKENg"
      }
    },
    {
      "cell_type": "code",
      "source": [
        "!gget muscle transcript_iso_fasta.fa"
      ],
      "metadata": {
        "id": "I2HYoJzFKEUg"
      },
      "execution_count": null,
      "outputs": []
    },
    {
      "cell_type": "code",
      "source": [
        ""
      ],
      "metadata": {
        "id": "zX04yiz4Fsfc"
      },
      "execution_count": null,
      "outputs": []
    }
  ]
}